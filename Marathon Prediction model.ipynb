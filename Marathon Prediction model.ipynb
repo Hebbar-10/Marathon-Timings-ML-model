{
 "cells": [
  {
   "cell_type": "markdown",
   "id": "1cea3240",
   "metadata": {},
   "source": [
    "The data below reads as follows:\n",
    "    id corresponds to the index of each athlete\n",
    "    \n",
    "    Category corresponds to the sex and age bracket each runner falls in (i.e MAM = Male under 40 years, \n",
    "    WAM = Woman under 40 years, M40 = Male athlete between 40 and 45 years)\n",
    "    \n",
    "    km4week is the total number of kilometers run in the last 4 weeks before the marathon, marathon included.\n",
    "    If, for example, the km4week is 100, the athlete has run 400 km in the four weeks before the marathon\n",
    "\n",
    "    sp4week is the average speed of the athlete in the last 4 training weeks. The average counts all the kilometers\n",
    "    done, included the slow kilometers done before and after the training. The average of the speed is \n",
    "    this number, and with time this is one of the numbers that has to be refined\n",
    "    \n",
    "    cross training: If the runner is also a cyclist, or a triathlete. How would training other disciplines affect \n",
    "    your timing?\n",
    "\n",
    "    Wall21: In decimal. The tricky field. To acknowledge a good performance, as a marathoner, I have to run the \n",
    "    first half marathon with the same split of the second half. If, for example, I run the first half marathon \n",
    "    in 1h30m, I must finish the marathon in 3h (for doing a good job). If I finish in 3h20m, I started too fast\n",
    "    and I hit \"the wall\". My training history is, therefore, less valid, since I was not estimating my result\n",
    "\n",
    "    Marathon time: In decimal. This is the final result. Based on the training history, the marathon timing must \n",
    "    be predicted.\n"
   ]
  },
  {
   "cell_type": "code",
   "execution_count": 44,
   "id": "6d360419",
   "metadata": {},
   "outputs": [
    {
     "data": {
      "text/html": [
       "<div>\n",
       "<style scoped>\n",
       "    .dataframe tbody tr th:only-of-type {\n",
       "        vertical-align: middle;\n",
       "    }\n",
       "\n",
       "    .dataframe tbody tr th {\n",
       "        vertical-align: top;\n",
       "    }\n",
       "\n",
       "    .dataframe thead th {\n",
       "        text-align: right;\n",
       "    }\n",
       "</style>\n",
       "<table border=\"1\" class=\"dataframe\">\n",
       "  <thead>\n",
       "    <tr style=\"text-align: right;\">\n",
       "      <th></th>\n",
       "      <th>id</th>\n",
       "      <th>Marathon</th>\n",
       "      <th>Category</th>\n",
       "      <th>km4week</th>\n",
       "      <th>sp4week</th>\n",
       "      <th>CrossTraining</th>\n",
       "      <th>MarathonTime</th>\n",
       "    </tr>\n",
       "  </thead>\n",
       "  <tbody>\n",
       "    <tr>\n",
       "      <th>0</th>\n",
       "      <td>1</td>\n",
       "      <td>Prague17</td>\n",
       "      <td>MAM</td>\n",
       "      <td>132.8</td>\n",
       "      <td>14.434783</td>\n",
       "      <td>NaN</td>\n",
       "      <td>2.37</td>\n",
       "    </tr>\n",
       "    <tr>\n",
       "      <th>1</th>\n",
       "      <td>2</td>\n",
       "      <td>Prague17</td>\n",
       "      <td>MAM</td>\n",
       "      <td>68.6</td>\n",
       "      <td>13.674419</td>\n",
       "      <td>NaN</td>\n",
       "      <td>2.59</td>\n",
       "    </tr>\n",
       "    <tr>\n",
       "      <th>2</th>\n",
       "      <td>3</td>\n",
       "      <td>Prague17</td>\n",
       "      <td>MAM</td>\n",
       "      <td>82.7</td>\n",
       "      <td>13.520436</td>\n",
       "      <td>NaN</td>\n",
       "      <td>2.66</td>\n",
       "    </tr>\n",
       "    <tr>\n",
       "      <th>3</th>\n",
       "      <td>4</td>\n",
       "      <td>Prague17</td>\n",
       "      <td>M45</td>\n",
       "      <td>137.5</td>\n",
       "      <td>12.258544</td>\n",
       "      <td>NaN</td>\n",
       "      <td>2.68</td>\n",
       "    </tr>\n",
       "    <tr>\n",
       "      <th>4</th>\n",
       "      <td>5</td>\n",
       "      <td>Prague17</td>\n",
       "      <td>MAM</td>\n",
       "      <td>84.6</td>\n",
       "      <td>13.945055</td>\n",
       "      <td>NaN</td>\n",
       "      <td>2.74</td>\n",
       "    </tr>\n",
       "    <tr>\n",
       "      <th>...</th>\n",
       "      <td>...</td>\n",
       "      <td>...</td>\n",
       "      <td>...</td>\n",
       "      <td>...</td>\n",
       "      <td>...</td>\n",
       "      <td>...</td>\n",
       "      <td>...</td>\n",
       "    </tr>\n",
       "    <tr>\n",
       "      <th>82</th>\n",
       "      <td>83</td>\n",
       "      <td>Prague17</td>\n",
       "      <td>M55</td>\n",
       "      <td>50.0</td>\n",
       "      <td>10.830325</td>\n",
       "      <td>NaN</td>\n",
       "      <td>3.93</td>\n",
       "    </tr>\n",
       "    <tr>\n",
       "      <th>83</th>\n",
       "      <td>84</td>\n",
       "      <td>Prague17</td>\n",
       "      <td>M40</td>\n",
       "      <td>33.6</td>\n",
       "      <td>10.130653</td>\n",
       "      <td>ciclista 3h</td>\n",
       "      <td>3.93</td>\n",
       "    </tr>\n",
       "    <tr>\n",
       "      <th>84</th>\n",
       "      <td>85</td>\n",
       "      <td>Prague17</td>\n",
       "      <td>M40</td>\n",
       "      <td>55.4</td>\n",
       "      <td>11.043189</td>\n",
       "      <td>NaN</td>\n",
       "      <td>3.94</td>\n",
       "    </tr>\n",
       "    <tr>\n",
       "      <th>85</th>\n",
       "      <td>86</td>\n",
       "      <td>Prague17</td>\n",
       "      <td>M45</td>\n",
       "      <td>33.2</td>\n",
       "      <td>11.066667</td>\n",
       "      <td>NaN</td>\n",
       "      <td>3.95</td>\n",
       "    </tr>\n",
       "    <tr>\n",
       "      <th>86</th>\n",
       "      <td>87</td>\n",
       "      <td>Prague17</td>\n",
       "      <td>M40</td>\n",
       "      <td>17.9</td>\n",
       "      <td>10.848485</td>\n",
       "      <td>ciclista 5h</td>\n",
       "      <td>3.98</td>\n",
       "    </tr>\n",
       "  </tbody>\n",
       "</table>\n",
       "<p>87 rows × 7 columns</p>\n",
       "</div>"
      ],
      "text/plain": [
       "    id  Marathon Category  km4week    sp4week CrossTraining  MarathonTime\n",
       "0    1  Prague17      MAM    132.8  14.434783           NaN          2.37\n",
       "1    2  Prague17      MAM     68.6  13.674419           NaN          2.59\n",
       "2    3  Prague17      MAM     82.7  13.520436           NaN          2.66\n",
       "3    4  Prague17      M45    137.5  12.258544           NaN          2.68\n",
       "4    5  Prague17      MAM     84.6  13.945055           NaN          2.74\n",
       "..  ..       ...      ...      ...        ...           ...           ...\n",
       "82  83  Prague17      M55     50.0  10.830325           NaN          3.93\n",
       "83  84  Prague17      M40     33.6  10.130653   ciclista 3h          3.93\n",
       "84  85  Prague17      M40     55.4  11.043189           NaN          3.94\n",
       "85  86  Prague17      M45     33.2  11.066667           NaN          3.95\n",
       "86  87  Prague17      M40     17.9  10.848485   ciclista 5h          3.98\n",
       "\n",
       "[87 rows x 7 columns]"
      ]
     },
     "execution_count": 44,
     "metadata": {},
     "output_type": "execute_result"
    }
   ],
   "source": [
    "import pandas as pd\n",
    "\n",
    "running_data = pd.read_csv('MarathonData.csv')\n",
    "running_data.drop(['Name', 'Wall21', 'CATEGORY'], axis=1, inplace=True)\n",
    "\n",
    "running_data"
   ]
  },
  {
   "cell_type": "code",
   "execution_count": 45,
   "id": "c533e63d",
   "metadata": {
    "scrolled": true
   },
   "outputs": [
    {
     "data": {
      "text/html": [
       "<div>\n",
       "<style scoped>\n",
       "    .dataframe tbody tr th:only-of-type {\n",
       "        vertical-align: middle;\n",
       "    }\n",
       "\n",
       "    .dataframe tbody tr th {\n",
       "        vertical-align: top;\n",
       "    }\n",
       "\n",
       "    .dataframe thead th {\n",
       "        text-align: right;\n",
       "    }\n",
       "</style>\n",
       "<table border=\"1\" class=\"dataframe\">\n",
       "  <thead>\n",
       "    <tr style=\"text-align: right;\">\n",
       "      <th></th>\n",
       "      <th>count</th>\n",
       "      <th>mean</th>\n",
       "      <th>std</th>\n",
       "      <th>min</th>\n",
       "      <th>25%</th>\n",
       "      <th>50%</th>\n",
       "      <th>75%</th>\n",
       "      <th>max</th>\n",
       "    </tr>\n",
       "  </thead>\n",
       "  <tbody>\n",
       "    <tr>\n",
       "      <th>id</th>\n",
       "      <td>87.0</td>\n",
       "      <td>44.000000</td>\n",
       "      <td>25.258662</td>\n",
       "      <td>1.000000</td>\n",
       "      <td>22.500000</td>\n",
       "      <td>44.000000</td>\n",
       "      <td>65.500000</td>\n",
       "      <td>87.00</td>\n",
       "    </tr>\n",
       "    <tr>\n",
       "      <th>km4week</th>\n",
       "      <td>87.0</td>\n",
       "      <td>62.347126</td>\n",
       "      <td>26.956019</td>\n",
       "      <td>17.900000</td>\n",
       "      <td>44.200000</td>\n",
       "      <td>58.800000</td>\n",
       "      <td>77.500000</td>\n",
       "      <td>137.50</td>\n",
       "    </tr>\n",
       "    <tr>\n",
       "      <th>sp4week</th>\n",
       "      <td>87.0</td>\n",
       "      <td>139.840706</td>\n",
       "      <td>1191.427864</td>\n",
       "      <td>8.031414</td>\n",
       "      <td>11.498168</td>\n",
       "      <td>12.163424</td>\n",
       "      <td>12.854036</td>\n",
       "      <td>11125.00</td>\n",
       "    </tr>\n",
       "    <tr>\n",
       "      <th>MarathonTime</th>\n",
       "      <td>87.0</td>\n",
       "      <td>3.319080</td>\n",
       "      <td>0.376923</td>\n",
       "      <td>2.370000</td>\n",
       "      <td>3.045000</td>\n",
       "      <td>3.320000</td>\n",
       "      <td>3.605000</td>\n",
       "      <td>3.98</td>\n",
       "    </tr>\n",
       "  </tbody>\n",
       "</table>\n",
       "</div>"
      ],
      "text/plain": [
       "              count        mean          std        min        25%        50%  \\\n",
       "id             87.0   44.000000    25.258662   1.000000  22.500000  44.000000   \n",
       "km4week        87.0   62.347126    26.956019  17.900000  44.200000  58.800000   \n",
       "sp4week        87.0  139.840706  1191.427864   8.031414  11.498168  12.163424   \n",
       "MarathonTime   87.0    3.319080     0.376923   2.370000   3.045000   3.320000   \n",
       "\n",
       "                    75%       max  \n",
       "id            65.500000     87.00  \n",
       "km4week       77.500000    137.50  \n",
       "sp4week       12.854036  11125.00  \n",
       "MarathonTime   3.605000      3.98  "
      ]
     },
     "execution_count": 45,
     "metadata": {},
     "output_type": "execute_result"
    }
   ],
   "source": [
    "running_data.describe().T"
   ]
  },
  {
   "cell_type": "code",
   "execution_count": 46,
   "id": "19e321db",
   "metadata": {},
   "outputs": [],
   "source": [
    "import seaborn as sns\n",
    "import matplotlib.pyplot as plt"
   ]
  },
  {
   "cell_type": "code",
   "execution_count": 47,
   "id": "c0c59e6c",
   "metadata": {},
   "outputs": [
    {
     "data": {
      "image/png": "[encoded data removed]",
      "text/plain": [
       "<Figure size 576x576 with 1 Axes>"
      ]
     },
     "metadata": {
      "needs_background": "light"
     },
     "output_type": "display_data"
    }
   ],
   "source": [
    "# Lets see the box plot\n",
    "# It is very useful to handle the ouliers\n",
    "\n",
    "# Lets create scatterplot of Category and MarathonTIme\n",
    "plt.figure(figsize=(8,8))\n",
    "sns.boxplot(x='Category',y='MarathonTime',data=running_data)\n",
    "plt.show()"
   ]
  },
  {
   "cell_type": "code",
   "execution_count": 48,
   "id": "57063334",
   "metadata": {},
   "outputs": [
    {
     "data": {
      "image/png": "[encoded data removed]",
      "text/plain": [
       "<Figure size 576x576 with 1 Axes>"
      ]
     },
     "metadata": {
      "needs_background": "light"
     },
     "output_type": "display_data"
    }
   ],
   "source": [
    "# Lets see the scatter plot\n",
    "# Lets create scatterplot of sp4week and MarathonTime\n",
    "\n",
    "plt.figure(figsize=(8,8))\n",
    "sns.scatterplot(x='sp4week',y='MarathonTime',data=running_data)\n",
    "plt.show()"
   ]
  },
  {
   "cell_type": "code",
   "execution_count": 49,
   "id": "21e1ff77",
   "metadata": {},
   "outputs": [
    {
     "data": {
      "image/png": "[encoded data removed]",
      "text/plain": [
       "<Figure size 576x576 with 1 Axes>"
      ]
     },
     "metadata": {
      "needs_background": "light"
     },
     "output_type": "display_data"
    }
   ],
   "source": [
    "# Lets see the scatter plot\n",
    "# Lets create scatterplot of km4week and MarathonTime\n",
    "\n",
    "plt.figure(figsize=(8,8))\n",
    "sns.scatterplot(x='km4week',y='MarathonTime',data=running_data)\n",
    "plt.show()"
   ]
  },
  {
   "cell_type": "code",
   "execution_count": 50,
   "id": "b83b97f7",
   "metadata": {},
   "outputs": [
    {
     "data": {
      "image/png": "[encoded data removed]",
      "text/plain": [
       "<Figure size 576x576 with 1 Axes>"
      ]
     },
     "metadata": {
      "needs_background": "light"
     },
     "output_type": "display_data"
    }
   ],
   "source": [
    "# Lets see the box plot\n",
    "# It is very useful to handle the ouliers\n",
    "\n",
    "# Lets create scatterplot of CrossTraining and MarathonTIme\n",
    "plt.figure(figsize=(8,8))\n",
    "sns.boxplot(x='CrossTraining',y='MarathonTime',data=running_data)\n",
    "plt.show()"
   ]
  },
  {
   "cell_type": "code",
   "execution_count": 51,
   "id": "7a0c779c",
   "metadata": {},
   "outputs": [],
   "source": [
    "from sklearn import preprocessing\n",
    "\n",
    "label_encoder = preprocessing.LabelEncoder()\n",
    "running_data['Marathon'] = label_encoder.fit_transform(running_data['Marathon'])\n",
    "running_data['Category'] = label_encoder.fit_transform(running_data['Category'])\n",
    "running_data['CrossTraining'] = label_encoder.fit_transform(running_data['CrossTraining'])"
   ]
  },
  {
   "cell_type": "code",
   "execution_count": 62,
   "id": "697bb5d3",
   "metadata": {
    "scrolled": true
   },
   "outputs": [
    {
     "data": {
      "text/html": [
       "<div>\n",
       "<style scoped>\n",
       "    .dataframe tbody tr th:only-of-type {\n",
       "        vertical-align: middle;\n",
       "    }\n",
       "\n",
       "    .dataframe tbody tr th {\n",
       "        vertical-align: top;\n",
       "    }\n",
       "\n",
       "    .dataframe thead th {\n",
       "        text-align: right;\n",
       "    }\n",
       "</style>\n",
       "<table border=\"1\" class=\"dataframe\">\n",
       "  <thead>\n",
       "    <tr style=\"text-align: right;\">\n",
       "      <th></th>\n",
       "      <th>id</th>\n",
       "      <th>Marathon</th>\n",
       "      <th>Category</th>\n",
       "      <th>km4week</th>\n",
       "      <th>sp4week</th>\n",
       "      <th>CrossTraining</th>\n",
       "      <th>MarathonTime</th>\n",
       "    </tr>\n",
       "  </thead>\n",
       "  <tbody>\n",
       "    <tr>\n",
       "      <th>0</th>\n",
       "      <td>1</td>\n",
       "      <td>0</td>\n",
       "      <td>4</td>\n",
       "      <td>132.8</td>\n",
       "      <td>14.434783</td>\n",
       "      <td>5</td>\n",
       "      <td>2.37</td>\n",
       "    </tr>\n",
       "    <tr>\n",
       "      <th>1</th>\n",
       "      <td>2</td>\n",
       "      <td>0</td>\n",
       "      <td>4</td>\n",
       "      <td>68.6</td>\n",
       "      <td>13.674419</td>\n",
       "      <td>5</td>\n",
       "      <td>2.59</td>\n",
       "    </tr>\n",
       "    <tr>\n",
       "      <th>2</th>\n",
       "      <td>3</td>\n",
       "      <td>0</td>\n",
       "      <td>4</td>\n",
       "      <td>82.7</td>\n",
       "      <td>13.520436</td>\n",
       "      <td>5</td>\n",
       "      <td>2.66</td>\n",
       "    </tr>\n",
       "    <tr>\n",
       "      <th>3</th>\n",
       "      <td>4</td>\n",
       "      <td>0</td>\n",
       "      <td>1</td>\n",
       "      <td>137.5</td>\n",
       "      <td>12.258544</td>\n",
       "      <td>5</td>\n",
       "      <td>2.68</td>\n",
       "    </tr>\n",
       "    <tr>\n",
       "      <th>4</th>\n",
       "      <td>5</td>\n",
       "      <td>0</td>\n",
       "      <td>4</td>\n",
       "      <td>84.6</td>\n",
       "      <td>13.945055</td>\n",
       "      <td>5</td>\n",
       "      <td>2.74</td>\n",
       "    </tr>\n",
       "    <tr>\n",
       "      <th>...</th>\n",
       "      <td>...</td>\n",
       "      <td>...</td>\n",
       "      <td>...</td>\n",
       "      <td>...</td>\n",
       "      <td>...</td>\n",
       "      <td>...</td>\n",
       "      <td>...</td>\n",
       "    </tr>\n",
       "    <tr>\n",
       "      <th>82</th>\n",
       "      <td>83</td>\n",
       "      <td>0</td>\n",
       "      <td>3</td>\n",
       "      <td>50.0</td>\n",
       "      <td>10.830325</td>\n",
       "      <td>5</td>\n",
       "      <td>3.93</td>\n",
       "    </tr>\n",
       "    <tr>\n",
       "      <th>83</th>\n",
       "      <td>84</td>\n",
       "      <td>0</td>\n",
       "      <td>0</td>\n",
       "      <td>33.6</td>\n",
       "      <td>10.130653</td>\n",
       "      <td>2</td>\n",
       "      <td>3.93</td>\n",
       "    </tr>\n",
       "    <tr>\n",
       "      <th>84</th>\n",
       "      <td>85</td>\n",
       "      <td>0</td>\n",
       "      <td>0</td>\n",
       "      <td>55.4</td>\n",
       "      <td>11.043189</td>\n",
       "      <td>5</td>\n",
       "      <td>3.94</td>\n",
       "    </tr>\n",
       "    <tr>\n",
       "      <th>85</th>\n",
       "      <td>86</td>\n",
       "      <td>0</td>\n",
       "      <td>1</td>\n",
       "      <td>33.2</td>\n",
       "      <td>11.066667</td>\n",
       "      <td>5</td>\n",
       "      <td>3.95</td>\n",
       "    </tr>\n",
       "    <tr>\n",
       "      <th>86</th>\n",
       "      <td>87</td>\n",
       "      <td>0</td>\n",
       "      <td>0</td>\n",
       "      <td>17.9</td>\n",
       "      <td>10.848485</td>\n",
       "      <td>4</td>\n",
       "      <td>3.98</td>\n",
       "    </tr>\n",
       "  </tbody>\n",
       "</table>\n",
       "<p>87 rows × 7 columns</p>\n",
       "</div>"
      ],
      "text/plain": [
       "    id  Marathon  Category  km4week    sp4week  CrossTraining  MarathonTime\n",
       "0    1         0         4    132.8  14.434783              5          2.37\n",
       "1    2         0         4     68.6  13.674419              5          2.59\n",
       "2    3         0         4     82.7  13.520436              5          2.66\n",
       "3    4         0         1    137.5  12.258544              5          2.68\n",
       "4    5         0         4     84.6  13.945055              5          2.74\n",
       "..  ..       ...       ...      ...        ...            ...           ...\n",
       "82  83         0         3     50.0  10.830325              5          3.93\n",
       "83  84         0         0     33.6  10.130653              2          3.93\n",
       "84  85         0         0     55.4  11.043189              5          3.94\n",
       "85  86         0         1     33.2  11.066667              5          3.95\n",
       "86  87         0         0     17.9  10.848485              4          3.98\n",
       "\n",
       "[87 rows x 7 columns]"
      ]
     },
     "execution_count": 62,
     "metadata": {},
     "output_type": "execute_result"
    }
   ],
   "source": [
    "running_data"
   ]
  },
  {
   "cell_type": "code",
   "execution_count": 63,
   "id": "6c3b2ca8",
   "metadata": {},
   "outputs": [
    {
     "data": {
      "text/html": [
       "<div>\n",
       "<style scoped>\n",
       "    .dataframe tbody tr th:only-of-type {\n",
       "        vertical-align: middle;\n",
       "    }\n",
       "\n",
       "    .dataframe tbody tr th {\n",
       "        vertical-align: top;\n",
       "    }\n",
       "\n",
       "    .dataframe thead th {\n",
       "        text-align: right;\n",
       "    }\n",
       "</style>\n",
       "<table border=\"1\" class=\"dataframe\">\n",
       "  <thead>\n",
       "    <tr style=\"text-align: right;\">\n",
       "      <th></th>\n",
       "      <th>id</th>\n",
       "      <th>Marathon</th>\n",
       "      <th>Category</th>\n",
       "      <th>km4week</th>\n",
       "      <th>sp4week</th>\n",
       "      <th>CrossTraining</th>\n",
       "      <th>MarathonTime</th>\n",
       "    </tr>\n",
       "  </thead>\n",
       "  <tbody>\n",
       "    <tr>\n",
       "      <th>count</th>\n",
       "      <td>87.000000</td>\n",
       "      <td>87.0</td>\n",
       "      <td>87.000000</td>\n",
       "      <td>87.000000</td>\n",
       "      <td>87.000000</td>\n",
       "      <td>87.000000</td>\n",
       "      <td>87.000000</td>\n",
       "    </tr>\n",
       "    <tr>\n",
       "      <th>mean</th>\n",
       "      <td>44.000000</td>\n",
       "      <td>0.0</td>\n",
       "      <td>2.850575</td>\n",
       "      <td>62.347126</td>\n",
       "      <td>139.840706</td>\n",
       "      <td>4.632184</td>\n",
       "      <td>3.319080</td>\n",
       "    </tr>\n",
       "    <tr>\n",
       "      <th>std</th>\n",
       "      <td>25.258662</td>\n",
       "      <td>0.0</td>\n",
       "      <td>1.889560</td>\n",
       "      <td>26.956019</td>\n",
       "      <td>1191.427864</td>\n",
       "      <td>1.001336</td>\n",
       "      <td>0.376923</td>\n",
       "    </tr>\n",
       "    <tr>\n",
       "      <th>min</th>\n",
       "      <td>1.000000</td>\n",
       "      <td>0.0</td>\n",
       "      <td>0.000000</td>\n",
       "      <td>17.900000</td>\n",
       "      <td>8.031414</td>\n",
       "      <td>0.000000</td>\n",
       "      <td>2.370000</td>\n",
       "    </tr>\n",
       "    <tr>\n",
       "      <th>25%</th>\n",
       "      <td>22.500000</td>\n",
       "      <td>0.0</td>\n",
       "      <td>1.000000</td>\n",
       "      <td>44.200000</td>\n",
       "      <td>11.498168</td>\n",
       "      <td>5.000000</td>\n",
       "      <td>3.045000</td>\n",
       "    </tr>\n",
       "    <tr>\n",
       "      <th>50%</th>\n",
       "      <td>44.000000</td>\n",
       "      <td>0.0</td>\n",
       "      <td>4.000000</td>\n",
       "      <td>58.800000</td>\n",
       "      <td>12.163424</td>\n",
       "      <td>5.000000</td>\n",
       "      <td>3.320000</td>\n",
       "    </tr>\n",
       "    <tr>\n",
       "      <th>75%</th>\n",
       "      <td>65.500000</td>\n",
       "      <td>0.0</td>\n",
       "      <td>4.000000</td>\n",
       "      <td>77.500000</td>\n",
       "      <td>12.854036</td>\n",
       "      <td>5.000000</td>\n",
       "      <td>3.605000</td>\n",
       "    </tr>\n",
       "    <tr>\n",
       "      <th>max</th>\n",
       "      <td>87.000000</td>\n",
       "      <td>0.0</td>\n",
       "      <td>6.000000</td>\n",
       "      <td>137.500000</td>\n",
       "      <td>11125.000000</td>\n",
       "      <td>5.000000</td>\n",
       "      <td>3.980000</td>\n",
       "    </tr>\n",
       "  </tbody>\n",
       "</table>\n",
       "</div>"
      ],
      "text/plain": [
       "              id  Marathon   Category     km4week       sp4week  \\\n",
       "count  87.000000      87.0  87.000000   87.000000     87.000000   \n",
       "mean   44.000000       0.0   2.850575   62.347126    139.840706   \n",
       "std    25.258662       0.0   1.889560   26.956019   1191.427864   \n",
       "min     1.000000       0.0   0.000000   17.900000      8.031414   \n",
       "25%    22.500000       0.0   1.000000   44.200000     11.498168   \n",
       "50%    44.000000       0.0   4.000000   58.800000     12.163424   \n",
       "75%    65.500000       0.0   4.000000   77.500000     12.854036   \n",
       "max    87.000000       0.0   6.000000  137.500000  11125.000000   \n",
       "\n",
       "       CrossTraining  MarathonTime  \n",
       "count      87.000000     87.000000  \n",
       "mean        4.632184      3.319080  \n",
       "std         1.001336      0.376923  \n",
       "min         0.000000      2.370000  \n",
       "25%         5.000000      3.045000  \n",
       "50%         5.000000      3.320000  \n",
       "75%         5.000000      3.605000  \n",
       "max         5.000000      3.980000  "
      ]
     },
     "execution_count": 63,
     "metadata": {},
     "output_type": "execute_result"
    }
   ],
   "source": [
    "running_data.describe()"
   ]
  },
  {
   "cell_type": "code",
   "execution_count": 52,
   "id": "ee4c25a2",
   "metadata": {},
   "outputs": [],
   "source": [
    "# Create target object and call it y\n",
    "y = running_data['MarathonTime']\n",
    "\n",
    "# Create X\n",
    "features = ['Marathon', 'Category', 'km4week', 'sp4week', 'CrossTraining']\n",
    "X = running_data[features]"
   ]
  },
  {
   "cell_type": "code",
   "execution_count": 53,
   "id": "5d2e694b",
   "metadata": {},
   "outputs": [],
   "source": [
    "from sklearn.model_selection import train_test_split\n",
    "\n",
    "# Split into validation and training data\n",
    "train_X, val_X, train_y, val_y = train_test_split(X, y, random_state=1)"
   ]
  },
  {
   "cell_type": "code",
   "execution_count": 54,
   "id": "7a07b054",
   "metadata": {},
   "outputs": [
    {
     "data": {
      "text/plain": [
       "DecisionTreeRegressor(max_leaf_nodes=100, random_state=1)"
      ]
     },
     "execution_count": 54,
     "metadata": {},
     "output_type": "execute_result"
    }
   ],
   "source": [
    "from sklearn.tree import DecisionTreeRegressor\n",
    "\n",
    "running_pred_model = DecisionTreeRegressor(max_leaf_nodes=100, random_state=1)\n",
    "running_pred_model.fit(train_X, train_y)"
   ]
  },
  {
   "cell_type": "code",
   "execution_count": 55,
   "id": "17b6b81f",
   "metadata": {},
   "outputs": [],
   "source": [
    "val_predictions = running_pred_model.predict(val_X)"
   ]
  },
  {
   "cell_type": "code",
   "execution_count": 56,
   "id": "baff607e",
   "metadata": {},
   "outputs": [
    {
     "data": {
      "text/plain": [
       "0.29545454545454547"
      ]
     },
     "execution_count": 56,
     "metadata": {},
     "output_type": "execute_result"
    }
   ],
   "source": [
    "from sklearn.metrics import mean_absolute_error\n",
    "from sklearn.metrics import mean_absolute_percentage_error\n",
    "\n",
    "val_mae = mean_absolute_error(val_y, val_predictions)\n",
    "val_mae"
   ]
  },
  {
   "cell_type": "code",
   "execution_count": 57,
   "id": "ac935416",
   "metadata": {},
   "outputs": [
    {
     "data": {
      "text/plain": [
       "0.08426688783464976"
      ]
     },
     "execution_count": 57,
     "metadata": {},
     "output_type": "execute_result"
    }
   ],
   "source": [
    "val_mape = mean_absolute_percentage_error(val_y, val_predictions)\n",
    "val_mape"
   ]
  },
  {
   "cell_type": "code",
   "execution_count": 58,
   "id": "4ff6ef89",
   "metadata": {},
   "outputs": [
    {
     "data": {
      "text/plain": [
       "RandomForestRegressor(random_state=1)"
      ]
     },
     "execution_count": 58,
     "metadata": {},
     "output_type": "execute_result"
    }
   ],
   "source": [
    "from sklearn.ensemble import RandomForestRegressor\n",
    "# import joblib\n",
    "\n",
    "#Define the model. Set random_state to 1\n",
    "rf_model = RandomForestRegressor(random_state=1)\n",
    "\n",
    "#fit your model\n",
    "rf_model.fit(train_X, train_y)\n",
    "\n",
    "# #Save model to a file\n",
    "# joblib.dump(rf_model, 'running-time-predictions.joblib')\n",
    "\n",
    "# rf_model = joblib.load('running-time-predictions.joblib')"
   ]
  },
  {
   "cell_type": "code",
   "execution_count": 59,
   "id": "74c8bb4a",
   "metadata": {},
   "outputs": [],
   "source": [
    "rf_val_predictions = rf_model.predict(val_X)"
   ]
  },
  {
   "cell_type": "code",
   "execution_count": 60,
   "id": "1c3944ff",
   "metadata": {},
   "outputs": [
    {
     "data": {
      "text/plain": [
       "0.2148363636363631"
      ]
     },
     "execution_count": 60,
     "metadata": {},
     "output_type": "execute_result"
    }
   ],
   "source": [
    "# Calculate the mean absolute error of your Random Forest model on the validation data\n",
    "rf_val_mae = mean_absolute_error(val_y, rf_val_predictions)\n",
    "rf_val_mae"
   ]
  },
  {
   "cell_type": "code",
   "execution_count": 61,
   "id": "6bb451d1",
   "metadata": {},
   "outputs": [
    {
     "data": {
      "text/plain": [
       "0.06500405214225896"
      ]
     },
     "execution_count": 61,
     "metadata": {},
     "output_type": "execute_result"
    }
   ],
   "source": [
    "rf_val_mape = mean_absolute_percentage_error(rf_val_predictions, val_y)\n",
    "rf_val_mape"
   ]
  },
  {
   "cell_type": "code",
   "execution_count": null,
   "id": "d7c9447c",
   "metadata": {},
   "outputs": [],
   "source": [
    "# Marathon = int(input(\"How may Marathons have you run?:\"))\n",
    "# Category = int(input(\"Which category do you fall under? [0 = M40, 1 = M45, 2 = WAM, 3 = M55, 4 = MAM, 5 = W45, 6 = W55]:\"))\n",
    "# km4week = float(input(\"How many km have you run in the last 4 weeks?:\"))\n",
    "# sp4week = float(input(\"What was your average speed in the last 4 weeks?:\"))\n",
    "# CrossTraining = int(input(\"Have you trained in any other disciplines in the last 4 weeks and how long? (i.e 2 = Cycling, 5 = NaN)\"))\n",
    "\n",
    "# userInput = [Marathon, Category, km4week, sp4week, CrossTraining]"
   ]
  },
  {
   "cell_type": "code",
   "execution_count": 69,
   "id": "ea33decd",
   "metadata": {},
   "outputs": [],
   "source": [
    "# result = rf_model.predict([userInput])[0]\n",
    "# print(result)"
   ]
  },
  {
   "cell_type": "code",
   "execution_count": null,
   "id": "4834c190",
   "metadata": {},
   "outputs": [],
   "source": []
  }
 ],
 "metadata": {
  "kernelspec": {
   "display_name": "Python 3 (ipykernel)",
   "language": "python",
   "name": "python3"
  },
  "language_info": {
   "codemirror_mode": {
    "name": "ipython",
    "version": 3
   },
   "file_extension": ".py",
   "mimetype": "text/x-python",
   "name": "python",
   "nbconvert_exporter": "python",
   "pygments_lexer": "ipython3",
   "version": "3.9.12"
  }
 },
 "nbformat": 4,
 "nbformat_minor": 5
}
