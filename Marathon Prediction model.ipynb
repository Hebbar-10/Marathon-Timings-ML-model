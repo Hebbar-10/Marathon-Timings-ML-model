{
 "cells": [
  {
   "cell_type": "markdown",
   "id": "8ad8454b",
   "metadata": {},
   "source": [
    "The data below reads as follows:\n",
    "    \n",
    "    id corresponds to the index of each athlete\n",
    "    \n",
    "    Category corresponds to the sex and age bracket each runner falls in (i.e MAM = Male under 40 years, \n",
    "    WAM = Woman under 40 years, M40 = Male athlete between 40 and 45 years)\n",
    "    \n",
    "    km4week is the total number of kilometers run in the last 4 weeks before the marathon, marathon included.\n",
    "    If, for example, the km4week is 100, the athlete has run 400 km in the four weeks before the marathon\n",
    "\n",
    "    sp4week is the average speed of the athlete in the last 4 training weeks. The average counts all the kilometers\n",
    "    done, included the slow kilometers done before and after the training. The average of the speed is \n",
    "    this number, and with time this is one of the numbers that has to be refined\n",
    "    \n",
    "    cross training: If the runner is also a cyclist, or a triathlete. How would training other disciplines affect \n",
    "    your timing?\n",
    "\n",
    "    Wall21: In decimal. The tricky field. To acknowledge a good performance, as a marathoner, I have to run the \n",
    "    first half marathon with the same split of the second half. If, for example, I run the first half marathon \n",
    "    in 1h30m, I must finish the marathon in 3h (for doing a good job). If I finish in 3h20m, I started too fast\n",
    "    and I hit \"the wall\". My training history is, therefore, less valid, since I was not estimating my result\n",
    "\n",
    "    Marathon time: In decimal. This is the final result. Based on the training history, the marathon timing must \n",
    "    be predicted.\n"
   ]
  },
  {
   "cell_type": "code",
   "execution_count": 130,
   "id": "7bf2bde9",
   "metadata": {},
   "outputs": [
    {
     "data": {
      "text/html": [
       "<div>\n",
       "<style scoped>\n",
       "    .dataframe tbody tr th:only-of-type {\n",
       "        vertical-align: middle;\n",
       "    }\n",
       "\n",
       "    .dataframe tbody tr th {\n",
       "        vertical-align: top;\n",
       "    }\n",
       "\n",
       "    .dataframe thead th {\n",
       "        text-align: right;\n",
       "    }\n",
       "</style>\n",
       "<table border=\"1\" class=\"dataframe\">\n",
       "  <thead>\n",
       "    <tr style=\"text-align: right;\">\n",
       "      <th></th>\n",
       "      <th>Marathon</th>\n",
       "      <th>Name</th>\n",
       "      <th>Category</th>\n",
       "      <th>km4week</th>\n",
       "      <th>sp4week</th>\n",
       "      <th>CrossTraining</th>\n",
       "      <th>MarathonTime</th>\n",
       "    </tr>\n",
       "  </thead>\n",
       "  <tbody>\n",
       "    <tr>\n",
       "      <th>0</th>\n",
       "      <td>Prague17</td>\n",
       "      <td>Blair MORGAN</td>\n",
       "      <td>MAM</td>\n",
       "      <td>132.8</td>\n",
       "      <td>14.434783</td>\n",
       "      <td>NaN</td>\n",
       "      <td>2.37</td>\n",
       "    </tr>\n",
       "    <tr>\n",
       "      <th>1</th>\n",
       "      <td>Prague17</td>\n",
       "      <td>Robert Heczko</td>\n",
       "      <td>MAM</td>\n",
       "      <td>68.6</td>\n",
       "      <td>13.674419</td>\n",
       "      <td>NaN</td>\n",
       "      <td>2.59</td>\n",
       "    </tr>\n",
       "    <tr>\n",
       "      <th>2</th>\n",
       "      <td>Prague17</td>\n",
       "      <td>Michon Jerome</td>\n",
       "      <td>MAM</td>\n",
       "      <td>82.7</td>\n",
       "      <td>13.520436</td>\n",
       "      <td>NaN</td>\n",
       "      <td>2.66</td>\n",
       "    </tr>\n",
       "    <tr>\n",
       "      <th>3</th>\n",
       "      <td>Prague17</td>\n",
       "      <td>Daniel Or lek</td>\n",
       "      <td>M45</td>\n",
       "      <td>137.5</td>\n",
       "      <td>12.258544</td>\n",
       "      <td>NaN</td>\n",
       "      <td>2.68</td>\n",
       "    </tr>\n",
       "    <tr>\n",
       "      <th>4</th>\n",
       "      <td>Prague17</td>\n",
       "      <td>Luk ? Mr zek</td>\n",
       "      <td>MAM</td>\n",
       "      <td>84.6</td>\n",
       "      <td>13.945055</td>\n",
       "      <td>NaN</td>\n",
       "      <td>2.74</td>\n",
       "    </tr>\n",
       "    <tr>\n",
       "      <th>...</th>\n",
       "      <td>...</td>\n",
       "      <td>...</td>\n",
       "      <td>...</td>\n",
       "      <td>...</td>\n",
       "      <td>...</td>\n",
       "      <td>...</td>\n",
       "      <td>...</td>\n",
       "    </tr>\n",
       "    <tr>\n",
       "      <th>82</th>\n",
       "      <td>Prague17</td>\n",
       "      <td>Stefano Vegliani</td>\n",
       "      <td>M55</td>\n",
       "      <td>50.0</td>\n",
       "      <td>10.830325</td>\n",
       "      <td>NaN</td>\n",
       "      <td>3.93</td>\n",
       "    </tr>\n",
       "    <tr>\n",
       "      <th>83</th>\n",
       "      <td>Prague17</td>\n",
       "      <td>Andrej Madliak</td>\n",
       "      <td>M40</td>\n",
       "      <td>33.6</td>\n",
       "      <td>10.130653</td>\n",
       "      <td>ciclista 3h</td>\n",
       "      <td>3.93</td>\n",
       "    </tr>\n",
       "    <tr>\n",
       "      <th>84</th>\n",
       "      <td>Prague17</td>\n",
       "      <td>Yoi Ohsako</td>\n",
       "      <td>M40</td>\n",
       "      <td>55.4</td>\n",
       "      <td>11.043189</td>\n",
       "      <td>NaN</td>\n",
       "      <td>3.94</td>\n",
       "    </tr>\n",
       "    <tr>\n",
       "      <th>85</th>\n",
       "      <td>Prague17</td>\n",
       "      <td>Simon Dunn</td>\n",
       "      <td>M45</td>\n",
       "      <td>33.2</td>\n",
       "      <td>11.066667</td>\n",
       "      <td>NaN</td>\n",
       "      <td>3.95</td>\n",
       "    </tr>\n",
       "    <tr>\n",
       "      <th>86</th>\n",
       "      <td>Prague17</td>\n",
       "      <td>Pavel ?imek</td>\n",
       "      <td>M40</td>\n",
       "      <td>17.9</td>\n",
       "      <td>10.848485</td>\n",
       "      <td>ciclista 5h</td>\n",
       "      <td>3.98</td>\n",
       "    </tr>\n",
       "  </tbody>\n",
       "</table>\n",
       "<p>87 rows × 7 columns</p>\n",
       "</div>"
      ],
      "text/plain": [
       "    Marathon              Name Category  km4week    sp4week CrossTraining  \\\n",
       "0   Prague17      Blair MORGAN      MAM    132.8  14.434783           NaN   \n",
       "1   Prague17     Robert Heczko      MAM     68.6  13.674419           NaN   \n",
       "2   Prague17     Michon Jerome      MAM     82.7  13.520436           NaN   \n",
       "3   Prague17     Daniel Or lek      M45    137.5  12.258544           NaN   \n",
       "4   Prague17      Luk ? Mr zek      MAM     84.6  13.945055           NaN   \n",
       "..       ...               ...      ...      ...        ...           ...   \n",
       "82  Prague17  Stefano Vegliani      M55     50.0  10.830325           NaN   \n",
       "83  Prague17    Andrej Madliak      M40     33.6  10.130653   ciclista 3h   \n",
       "84  Prague17        Yoi Ohsako      M40     55.4  11.043189           NaN   \n",
       "85  Prague17        Simon Dunn      M45     33.2  11.066667           NaN   \n",
       "86  Prague17       Pavel ?imek      M40     17.9  10.848485   ciclista 5h   \n",
       "\n",
       "    MarathonTime  \n",
       "0           2.37  \n",
       "1           2.59  \n",
       "2           2.66  \n",
       "3           2.68  \n",
       "4           2.74  \n",
       "..           ...  \n",
       "82          3.93  \n",
       "83          3.93  \n",
       "84          3.94  \n",
       "85          3.95  \n",
       "86          3.98  \n",
       "\n",
       "[87 rows x 7 columns]"
      ]
     },
     "execution_count": 130,
     "metadata": {},
     "output_type": "execute_result"
    }
   ],
   "source": [
    "import pandas as pd\n",
    "\n",
    "running_data = pd.read_csv('MarathonData.csv')\n",
    "running_data.drop(['id', 'Wall21', 'CATEGORY'], axis=1, inplace=True)\n",
    "\n",
    "running_data"
   ]
  },
  {
   "cell_type": "code",
   "execution_count": 131,
   "id": "0332f7d6",
   "metadata": {
    "scrolled": true
   },
   "outputs": [
    {
     "data": {
      "text/html": [
       "<div>\n",
       "<style scoped>\n",
       "    .dataframe tbody tr th:only-of-type {\n",
       "        vertical-align: middle;\n",
       "    }\n",
       "\n",
       "    .dataframe tbody tr th {\n",
       "        vertical-align: top;\n",
       "    }\n",
       "\n",
       "    .dataframe thead th {\n",
       "        text-align: right;\n",
       "    }\n",
       "</style>\n",
       "<table border=\"1\" class=\"dataframe\">\n",
       "  <thead>\n",
       "    <tr style=\"text-align: right;\">\n",
       "      <th></th>\n",
       "      <th>count</th>\n",
       "      <th>mean</th>\n",
       "      <th>std</th>\n",
       "      <th>min</th>\n",
       "      <th>25%</th>\n",
       "      <th>50%</th>\n",
       "      <th>75%</th>\n",
       "      <th>max</th>\n",
       "    </tr>\n",
       "  </thead>\n",
       "  <tbody>\n",
       "    <tr>\n",
       "      <th>km4week</th>\n",
       "      <td>87.0</td>\n",
       "      <td>62.347126</td>\n",
       "      <td>26.956019</td>\n",
       "      <td>17.900000</td>\n",
       "      <td>44.200000</td>\n",
       "      <td>58.800000</td>\n",
       "      <td>77.500000</td>\n",
       "      <td>137.50</td>\n",
       "    </tr>\n",
       "    <tr>\n",
       "      <th>sp4week</th>\n",
       "      <td>87.0</td>\n",
       "      <td>139.840706</td>\n",
       "      <td>1191.427864</td>\n",
       "      <td>8.031414</td>\n",
       "      <td>11.498168</td>\n",
       "      <td>12.163424</td>\n",
       "      <td>12.854036</td>\n",
       "      <td>11125.00</td>\n",
       "    </tr>\n",
       "    <tr>\n",
       "      <th>MarathonTime</th>\n",
       "      <td>87.0</td>\n",
       "      <td>3.319080</td>\n",
       "      <td>0.376923</td>\n",
       "      <td>2.370000</td>\n",
       "      <td>3.045000</td>\n",
       "      <td>3.320000</td>\n",
       "      <td>3.605000</td>\n",
       "      <td>3.98</td>\n",
       "    </tr>\n",
       "  </tbody>\n",
       "</table>\n",
       "</div>"
      ],
      "text/plain": [
       "              count        mean          std        min        25%        50%  \\\n",
       "km4week        87.0   62.347126    26.956019  17.900000  44.200000  58.800000   \n",
       "sp4week        87.0  139.840706  1191.427864   8.031414  11.498168  12.163424   \n",
       "MarathonTime   87.0    3.319080     0.376923   2.370000   3.045000   3.320000   \n",
       "\n",
       "                    75%       max  \n",
       "km4week       77.500000    137.50  \n",
       "sp4week       12.854036  11125.00  \n",
       "MarathonTime   3.605000      3.98  "
      ]
     },
     "execution_count": 131,
     "metadata": {},
     "output_type": "execute_result"
    }
   ],
   "source": [
    "running_data.describe().T"
   ]
  },
  {
   "cell_type": "code",
   "execution_count": 132,
   "id": "c23ecfa5",
   "metadata": {},
   "outputs": [],
   "source": [
    "import seaborn as sns\n",
    "import matplotlib.pyplot as plt"
   ]
  },
  {
   "cell_type": "code",
   "execution_count": 133,
   "id": "0b83c25b",
   "metadata": {
    "scrolled": true
   },
   "outputs": [
    {
     "data": {
      "image/png": "[encoded data removed]",
      "text/plain": [
       "<Figure size 576x576 with 1 Axes>"
      ]
     },
     "metadata": {
      "needs_background": "light"
     },
     "output_type": "display_data"
    }
   ],
   "source": [
    "# Lets see the box plot\n",
    "# It is very useful to handle the ouliers\n",
    "\n",
    "# Lets create a box-plot of Category and MarathonTIme\n",
    "plt.figure(figsize=(8,8))\n",
    "sns.boxplot(x='Category',y='MarathonTime',data=running_data)\n",
    "plt.show()"
   ]
  },
  {
   "cell_type": "markdown",
   "id": "5dbaac0f",
   "metadata": {},
   "source": [
    "The box-plot above of marathon timing and the category corresponding to the sex and age bracket each runner falls in provides the model with crucial information. The variation in marathon timing between the categories is significant and plays a role in training the model."
   ]
  },
  {
   "cell_type": "code",
   "execution_count": 134,
   "id": "544f2957",
   "metadata": {},
   "outputs": [
    {
     "data": {
      "image/png": "[encoded data removed]",
      "text/plain": [
       "<Figure size 576x576 with 1 Axes>"
      ]
     },
     "metadata": {
      "needs_background": "light"
     },
     "output_type": "display_data"
    }
   ],
   "source": [
    "# Lets see the scatter plot\n",
    "# Lets create scatterplot of sp4week and MarathonTime\n",
    "\n",
    "plt.figure(figsize=(8,8))\n",
    "sns.scatterplot(x='sp4week',y='MarathonTime',data=running_data)\n",
    "plt.show()"
   ]
  },
  {
   "cell_type": "code",
   "execution_count": 135,
   "id": "9de9ac80",
   "metadata": {},
   "outputs": [
    {
     "data": {
      "text/plain": [
       "0         8.031414\n",
       "1         8.337931\n",
       "2         9.907734\n",
       "3        10.053269\n",
       "4        10.130653\n",
       "          ...     \n",
       "82       14.078947\n",
       "83       14.336538\n",
       "84       14.434783\n",
       "85       14.970492\n",
       "86    11125.000000\n",
       "Name: sp4week, Length: 87, dtype: float64"
      ]
     },
     "execution_count": 135,
     "metadata": {},
     "output_type": "execute_result"
    }
   ],
   "source": [
    "running_data[\"sp4week\"].mode()"
   ]
  },
  {
   "cell_type": "markdown",
   "id": "ce50ce44",
   "metadata": {},
   "source": [
    "A clear outlier is present in the scatter plot for average speed and marathon timing illustrated above. We will deal with this by writing a function with the help of z-score to detect the outlier in our data and deal with it accordingly."
   ]
  },
  {
   "cell_type": "code",
   "execution_count": 136,
   "id": "ed29598e",
   "metadata": {
    "scrolled": false
   },
   "outputs": [
    {
     "name": "stdout",
     "output_type": "stream",
     "text": [
      "[11125.0]\n"
     ]
    }
   ],
   "source": [
    "# Detect outliers present in the dataframe\n",
    "import numpy as np\n",
    "import pandas as pd\n",
    "outliers=[]\n",
    "def detect_outlier(data_1):\n",
    "    \n",
    "    threshold=3\n",
    "    mean_1 = np.mean(data_1)\n",
    "    std_1 =np.std(data_1)\n",
    "    \n",
    "    \n",
    "    for y in data_1:\n",
    "        z_score= (y - mean_1)/std_1 \n",
    "        if np.abs(z_score) > threshold:\n",
    "            outliers.append(y)\n",
    "    return outliers\n",
    "\n",
    "\n",
    "# We now pass the dataset column that needs to be dealt with as \n",
    "# an input argument to the detect_outlier function\n",
    "\n",
    "outlier_datapoints = detect_outlier(running_data[\"sp4week\"])\n",
    "\n",
    "print(outlier_datapoints)\n"
   ]
  },
  {
   "cell_type": "code",
   "execution_count": 137,
   "id": "1a33f694",
   "metadata": {
    "scrolled": true
   },
   "outputs": [
    {
     "data": {
      "text/html": [
       "<div>\n",
       "<style scoped>\n",
       "    .dataframe tbody tr th:only-of-type {\n",
       "        vertical-align: middle;\n",
       "    }\n",
       "\n",
       "    .dataframe tbody tr th {\n",
       "        vertical-align: top;\n",
       "    }\n",
       "\n",
       "    .dataframe thead th {\n",
       "        text-align: right;\n",
       "    }\n",
       "</style>\n",
       "<table border=\"1\" class=\"dataframe\">\n",
       "  <thead>\n",
       "    <tr style=\"text-align: right;\">\n",
       "      <th></th>\n",
       "      <th>Marathon</th>\n",
       "      <th>Name</th>\n",
       "      <th>Category</th>\n",
       "      <th>km4week</th>\n",
       "      <th>sp4week</th>\n",
       "      <th>CrossTraining</th>\n",
       "      <th>MarathonTime</th>\n",
       "    </tr>\n",
       "  </thead>\n",
       "  <tbody>\n",
       "    <tr>\n",
       "      <th>0</th>\n",
       "      <td>Prague17</td>\n",
       "      <td>Blair MORGAN</td>\n",
       "      <td>MAM</td>\n",
       "      <td>132.8</td>\n",
       "      <td>14.434783</td>\n",
       "      <td>NaN</td>\n",
       "      <td>2.37</td>\n",
       "    </tr>\n",
       "    <tr>\n",
       "      <th>1</th>\n",
       "      <td>Prague17</td>\n",
       "      <td>Robert Heczko</td>\n",
       "      <td>MAM</td>\n",
       "      <td>68.6</td>\n",
       "      <td>13.674419</td>\n",
       "      <td>NaN</td>\n",
       "      <td>2.59</td>\n",
       "    </tr>\n",
       "    <tr>\n",
       "      <th>2</th>\n",
       "      <td>Prague17</td>\n",
       "      <td>Michon Jerome</td>\n",
       "      <td>MAM</td>\n",
       "      <td>82.7</td>\n",
       "      <td>13.520436</td>\n",
       "      <td>NaN</td>\n",
       "      <td>2.66</td>\n",
       "    </tr>\n",
       "    <tr>\n",
       "      <th>3</th>\n",
       "      <td>Prague17</td>\n",
       "      <td>Daniel Or lek</td>\n",
       "      <td>M45</td>\n",
       "      <td>137.5</td>\n",
       "      <td>12.258544</td>\n",
       "      <td>NaN</td>\n",
       "      <td>2.68</td>\n",
       "    </tr>\n",
       "    <tr>\n",
       "      <th>4</th>\n",
       "      <td>Prague17</td>\n",
       "      <td>Luk ? Mr zek</td>\n",
       "      <td>MAM</td>\n",
       "      <td>84.6</td>\n",
       "      <td>13.945055</td>\n",
       "      <td>NaN</td>\n",
       "      <td>2.74</td>\n",
       "    </tr>\n",
       "    <tr>\n",
       "      <th>...</th>\n",
       "      <td>...</td>\n",
       "      <td>...</td>\n",
       "      <td>...</td>\n",
       "      <td>...</td>\n",
       "      <td>...</td>\n",
       "      <td>...</td>\n",
       "      <td>...</td>\n",
       "    </tr>\n",
       "    <tr>\n",
       "      <th>81</th>\n",
       "      <td>Prague17</td>\n",
       "      <td>Stefano Vegliani</td>\n",
       "      <td>M55</td>\n",
       "      <td>50.0</td>\n",
       "      <td>10.830325</td>\n",
       "      <td>NaN</td>\n",
       "      <td>3.93</td>\n",
       "    </tr>\n",
       "    <tr>\n",
       "      <th>82</th>\n",
       "      <td>Prague17</td>\n",
       "      <td>Andrej Madliak</td>\n",
       "      <td>M40</td>\n",
       "      <td>33.6</td>\n",
       "      <td>10.130653</td>\n",
       "      <td>ciclista 3h</td>\n",
       "      <td>3.93</td>\n",
       "    </tr>\n",
       "    <tr>\n",
       "      <th>83</th>\n",
       "      <td>Prague17</td>\n",
       "      <td>Yoi Ohsako</td>\n",
       "      <td>M40</td>\n",
       "      <td>55.4</td>\n",
       "      <td>11.043189</td>\n",
       "      <td>NaN</td>\n",
       "      <td>3.94</td>\n",
       "    </tr>\n",
       "    <tr>\n",
       "      <th>84</th>\n",
       "      <td>Prague17</td>\n",
       "      <td>Simon Dunn</td>\n",
       "      <td>M45</td>\n",
       "      <td>33.2</td>\n",
       "      <td>11.066667</td>\n",
       "      <td>NaN</td>\n",
       "      <td>3.95</td>\n",
       "    </tr>\n",
       "    <tr>\n",
       "      <th>85</th>\n",
       "      <td>Prague17</td>\n",
       "      <td>Pavel ?imek</td>\n",
       "      <td>M40</td>\n",
       "      <td>17.9</td>\n",
       "      <td>10.848485</td>\n",
       "      <td>ciclista 5h</td>\n",
       "      <td>3.98</td>\n",
       "    </tr>\n",
       "  </tbody>\n",
       "</table>\n",
       "<p>86 rows × 7 columns</p>\n",
       "</div>"
      ],
      "text/plain": [
       "    Marathon              Name Category  km4week    sp4week CrossTraining  \\\n",
       "0   Prague17      Blair MORGAN      MAM    132.8  14.434783           NaN   \n",
       "1   Prague17     Robert Heczko      MAM     68.6  13.674419           NaN   \n",
       "2   Prague17     Michon Jerome      MAM     82.7  13.520436           NaN   \n",
       "3   Prague17     Daniel Or lek      M45    137.5  12.258544           NaN   \n",
       "4   Prague17      Luk ? Mr zek      MAM     84.6  13.945055           NaN   \n",
       "..       ...               ...      ...      ...        ...           ...   \n",
       "81  Prague17  Stefano Vegliani      M55     50.0  10.830325           NaN   \n",
       "82  Prague17    Andrej Madliak      M40     33.6  10.130653   ciclista 3h   \n",
       "83  Prague17        Yoi Ohsako      M40     55.4  11.043189           NaN   \n",
       "84  Prague17        Simon Dunn      M45     33.2  11.066667           NaN   \n",
       "85  Prague17       Pavel ?imek      M40     17.9  10.848485   ciclista 5h   \n",
       "\n",
       "    MarathonTime  \n",
       "0           2.37  \n",
       "1           2.59  \n",
       "2           2.66  \n",
       "3           2.68  \n",
       "4           2.74  \n",
       "..           ...  \n",
       "81          3.93  \n",
       "82          3.93  \n",
       "83          3.94  \n",
       "84          3.95  \n",
       "85          3.98  \n",
       "\n",
       "[86 rows x 7 columns]"
      ]
     },
     "execution_count": 137,
     "metadata": {},
     "output_type": "execute_result"
    }
   ],
   "source": [
    "# Remove outliers from the dataframe\n",
    "# running_data.drop(running_data.index[running_data['sp4week'] == [int(x) for x in outlier_datapoints]], inplace = True)\n",
    "running_data.drop(running_data.index[running_data['sp4week'] == 11125.0], inplace = True)\n",
    "running_data = running_data.reset_index(drop=True)\n",
    "running_data"
   ]
  },
  {
   "cell_type": "code",
   "execution_count": 138,
   "id": "02ca6260",
   "metadata": {},
   "outputs": [
    {
     "data": {
      "image/png": "[encoded data removed]",
      "text/plain": [
       "<Figure size 576x576 with 1 Axes>"
      ]
     },
     "metadata": {
      "needs_background": "light"
     },
     "output_type": "display_data"
    }
   ],
   "source": [
    "# Lets see the scatter plot\n",
    "# Lets create scatterplot of sp4week and MarathonTime\n",
    "\n",
    "plt.figure(figsize=(8,8))\n",
    "sns.scatterplot(x='sp4week',y='MarathonTime',data=running_data)\n",
    "plt.show()"
   ]
  },
  {
   "cell_type": "markdown",
   "id": "410bfbc1",
   "metadata": {},
   "source": [
    "After we cleaned the above data, it is evident that there is a relationship between an athletes average speed and their marathon timing. There exists a negative correlation between marathon timing and average speed. The higher an athletes average speed, the lower their marathon timing. "
   ]
  },
  {
   "cell_type": "code",
   "execution_count": 139,
   "id": "48df5a68",
   "metadata": {},
   "outputs": [
    {
     "data": {
      "image/png": "[encoded data removed]",
      "text/plain": [
       "<Figure size 576x576 with 1 Axes>"
      ]
     },
     "metadata": {
      "needs_background": "light"
     },
     "output_type": "display_data"
    }
   ],
   "source": [
    "# Lets see the scatter plot\n",
    "# Lets create scatterplot of km4week and MarathonTime\n",
    "\n",
    "plt.figure(figsize=(8,8))\n",
    "sns.scatterplot(x='km4week',y='MarathonTime',data=running_data)\n",
    "plt.show()"
   ]
  },
  {
   "cell_type": "markdown",
   "id": "5a35eb4a",
   "metadata": {},
   "source": [
    "There is a negative correlation between an athletes total kms run and their marathon timing. The more an athlete trained in the 4 weeks prior to the marathon, the quicker they managed to run in their marathon."
   ]
  },
  {
   "cell_type": "code",
   "execution_count": 140,
   "id": "bffe8b43",
   "metadata": {},
   "outputs": [
    {
     "data": {
      "image/png": "[encoded data removed]",
      "text/plain": [
       "<Figure size 576x576 with 1 Axes>"
      ]
     },
     "metadata": {
      "needs_background": "light"
     },
     "output_type": "display_data"
    }
   ],
   "source": [
    "# Lets see the box plot\n",
    "# It is very useful to handle the ouliers\n",
    "\n",
    "# Lets create box-plot of CrossTraining and MarathonTIme\n",
    "plt.figure(figsize=(8,8))\n",
    "sns.boxplot(x='CrossTraining',y='MarathonTime',data=running_data)\n",
    "plt.show()"
   ]
  },
  {
   "cell_type": "markdown",
   "id": "67e82460",
   "metadata": {},
   "source": [
    "The box-plot above of an athletes cross training (training other disciplines during their marathon training) provides us with little information as the datapoints are small. However, as we see new datapoints in the future, the model will pick up on the effect this additional training may have and could play a role in the improvement of the prediction model."
   ]
  },
  {
   "cell_type": "code",
   "execution_count": 141,
   "id": "c6e283a6",
   "metadata": {},
   "outputs": [],
   "source": [
    "from sklearn import preprocessing\n",
    "\n",
    "label_encoder = preprocessing.LabelEncoder()\n",
    "running_data['Marathon'] = label_encoder.fit_transform(running_data['Marathon']) + 1\n",
    "running_data['Category'] = label_encoder.fit_transform(running_data['Category'])\n",
    "running_data['CrossTraining'] = label_encoder.fit_transform(running_data['CrossTraining'])"
   ]
  },
  {
   "cell_type": "code",
   "execution_count": 142,
   "id": "18ef353f",
   "metadata": {
    "scrolled": true
   },
   "outputs": [
    {
     "data": {
      "text/html": [
       "<div>\n",
       "<style scoped>\n",
       "    .dataframe tbody tr th:only-of-type {\n",
       "        vertical-align: middle;\n",
       "    }\n",
       "\n",
       "    .dataframe tbody tr th {\n",
       "        vertical-align: top;\n",
       "    }\n",
       "\n",
       "    .dataframe thead th {\n",
       "        text-align: right;\n",
       "    }\n",
       "</style>\n",
       "<table border=\"1\" class=\"dataframe\">\n",
       "  <thead>\n",
       "    <tr style=\"text-align: right;\">\n",
       "      <th></th>\n",
       "      <th>Marathon</th>\n",
       "      <th>Name</th>\n",
       "      <th>Category</th>\n",
       "      <th>km4week</th>\n",
       "      <th>sp4week</th>\n",
       "      <th>CrossTraining</th>\n",
       "      <th>MarathonTime</th>\n",
       "    </tr>\n",
       "  </thead>\n",
       "  <tbody>\n",
       "    <tr>\n",
       "      <th>0</th>\n",
       "      <td>1</td>\n",
       "      <td>Blair MORGAN</td>\n",
       "      <td>4</td>\n",
       "      <td>132.8</td>\n",
       "      <td>14.434783</td>\n",
       "      <td>5</td>\n",
       "      <td>2.37</td>\n",
       "    </tr>\n",
       "    <tr>\n",
       "      <th>1</th>\n",
       "      <td>1</td>\n",
       "      <td>Robert Heczko</td>\n",
       "      <td>4</td>\n",
       "      <td>68.6</td>\n",
       "      <td>13.674419</td>\n",
       "      <td>5</td>\n",
       "      <td>2.59</td>\n",
       "    </tr>\n",
       "    <tr>\n",
       "      <th>2</th>\n",
       "      <td>1</td>\n",
       "      <td>Michon Jerome</td>\n",
       "      <td>4</td>\n",
       "      <td>82.7</td>\n",
       "      <td>13.520436</td>\n",
       "      <td>5</td>\n",
       "      <td>2.66</td>\n",
       "    </tr>\n",
       "    <tr>\n",
       "      <th>3</th>\n",
       "      <td>1</td>\n",
       "      <td>Daniel Or lek</td>\n",
       "      <td>1</td>\n",
       "      <td>137.5</td>\n",
       "      <td>12.258544</td>\n",
       "      <td>5</td>\n",
       "      <td>2.68</td>\n",
       "    </tr>\n",
       "    <tr>\n",
       "      <th>4</th>\n",
       "      <td>1</td>\n",
       "      <td>Luk ? Mr zek</td>\n",
       "      <td>4</td>\n",
       "      <td>84.6</td>\n",
       "      <td>13.945055</td>\n",
       "      <td>5</td>\n",
       "      <td>2.74</td>\n",
       "    </tr>\n",
       "    <tr>\n",
       "      <th>...</th>\n",
       "      <td>...</td>\n",
       "      <td>...</td>\n",
       "      <td>...</td>\n",
       "      <td>...</td>\n",
       "      <td>...</td>\n",
       "      <td>...</td>\n",
       "      <td>...</td>\n",
       "    </tr>\n",
       "    <tr>\n",
       "      <th>81</th>\n",
       "      <td>1</td>\n",
       "      <td>Stefano Vegliani</td>\n",
       "      <td>3</td>\n",
       "      <td>50.0</td>\n",
       "      <td>10.830325</td>\n",
       "      <td>5</td>\n",
       "      <td>3.93</td>\n",
       "    </tr>\n",
       "    <tr>\n",
       "      <th>82</th>\n",
       "      <td>1</td>\n",
       "      <td>Andrej Madliak</td>\n",
       "      <td>0</td>\n",
       "      <td>33.6</td>\n",
       "      <td>10.130653</td>\n",
       "      <td>2</td>\n",
       "      <td>3.93</td>\n",
       "    </tr>\n",
       "    <tr>\n",
       "      <th>83</th>\n",
       "      <td>1</td>\n",
       "      <td>Yoi Ohsako</td>\n",
       "      <td>0</td>\n",
       "      <td>55.4</td>\n",
       "      <td>11.043189</td>\n",
       "      <td>5</td>\n",
       "      <td>3.94</td>\n",
       "    </tr>\n",
       "    <tr>\n",
       "      <th>84</th>\n",
       "      <td>1</td>\n",
       "      <td>Simon Dunn</td>\n",
       "      <td>1</td>\n",
       "      <td>33.2</td>\n",
       "      <td>11.066667</td>\n",
       "      <td>5</td>\n",
       "      <td>3.95</td>\n",
       "    </tr>\n",
       "    <tr>\n",
       "      <th>85</th>\n",
       "      <td>1</td>\n",
       "      <td>Pavel ?imek</td>\n",
       "      <td>0</td>\n",
       "      <td>17.9</td>\n",
       "      <td>10.848485</td>\n",
       "      <td>4</td>\n",
       "      <td>3.98</td>\n",
       "    </tr>\n",
       "  </tbody>\n",
       "</table>\n",
       "<p>86 rows × 7 columns</p>\n",
       "</div>"
      ],
      "text/plain": [
       "    Marathon              Name  Category  km4week    sp4week  CrossTraining  \\\n",
       "0          1      Blair MORGAN         4    132.8  14.434783              5   \n",
       "1          1     Robert Heczko         4     68.6  13.674419              5   \n",
       "2          1     Michon Jerome         4     82.7  13.520436              5   \n",
       "3          1     Daniel Or lek         1    137.5  12.258544              5   \n",
       "4          1      Luk ? Mr zek         4     84.6  13.945055              5   \n",
       "..       ...               ...       ...      ...        ...            ...   \n",
       "81         1  Stefano Vegliani         3     50.0  10.830325              5   \n",
       "82         1    Andrej Madliak         0     33.6  10.130653              2   \n",
       "83         1        Yoi Ohsako         0     55.4  11.043189              5   \n",
       "84         1        Simon Dunn         1     33.2  11.066667              5   \n",
       "85         1       Pavel ?imek         0     17.9  10.848485              4   \n",
       "\n",
       "    MarathonTime  \n",
       "0           2.37  \n",
       "1           2.59  \n",
       "2           2.66  \n",
       "3           2.68  \n",
       "4           2.74  \n",
       "..           ...  \n",
       "81          3.93  \n",
       "82          3.93  \n",
       "83          3.94  \n",
       "84          3.95  \n",
       "85          3.98  \n",
       "\n",
       "[86 rows x 7 columns]"
      ]
     },
     "execution_count": 142,
     "metadata": {},
     "output_type": "execute_result"
    }
   ],
   "source": [
    "running_data"
   ]
  },
  {
   "cell_type": "markdown",
   "id": "fc8981c1",
   "metadata": {},
   "source": [
    "The above data is cleaned using feature engineering to transform categorical variables to numerical variables. This will allow the data to form patterns in the features that coreespond to a marathon timing.\n",
    "\n",
    "Marathon was initialised with +1 as it is the first datapoint the model is viewing in terms of marathons. As the model starts to see new data, each new marathon viewed will be set to the consequent number of the viewed datapoints. ALthough the marathon plays no role in the current model, as the model begins to see new data, the marathon being run could play a role in the prediction.\n",
    "\n",
    "As there are a finite number of categories it is easy to keep track of what numerical value corresponds to a category, this will allow us to correctly place new data in the right categories.\n",
    "\n",
    "Although crosstraining could have several variations of datapoints, we will use a simplified method to track each datapoint by dividing them up by cycling, swimming. We can then assign the time spent on each activity to the different crosstraining disciplines and output numerical values for the model to pick up on."
   ]
  },
  {
   "cell_type": "code",
   "execution_count": 143,
   "id": "52a5ac24",
   "metadata": {},
   "outputs": [],
   "source": [
    "# Create target object and call it y\n",
    "y = running_data['MarathonTime']\n",
    "\n",
    "# Create X\n",
    "features = ['Marathon', 'Category', 'km4week', 'sp4week', 'CrossTraining']\n",
    "X = running_data[features]"
   ]
  },
  {
   "cell_type": "code",
   "execution_count": 144,
   "id": "f9da63ab",
   "metadata": {},
   "outputs": [],
   "source": [
    "from sklearn.model_selection import train_test_split\n",
    "\n",
    "# Split into validation and training data\n",
    "train_X, val_X, train_y, val_y = train_test_split(X, y, random_state=1)"
   ]
  },
  {
   "cell_type": "code",
   "execution_count": 145,
   "id": "6f1c1d4e",
   "metadata": {},
   "outputs": [
    {
     "data": {
      "text/plain": [
       "DecisionTreeRegressor(max_leaf_nodes=100, random_state=1)"
      ]
     },
     "execution_count": 145,
     "metadata": {},
     "output_type": "execute_result"
    }
   ],
   "source": [
    "from sklearn.tree import DecisionTreeRegressor\n",
    "\n",
    "running_pred_model = DecisionTreeRegressor(max_leaf_nodes=100, random_state=1)\n",
    "running_pred_model.fit(train_X, train_y)"
   ]
  },
  {
   "cell_type": "code",
   "execution_count": 146,
   "id": "b72492a9",
   "metadata": {},
   "outputs": [],
   "source": [
    "val_predictions = running_pred_model.predict(val_X)"
   ]
  },
  {
   "cell_type": "code",
   "execution_count": 147,
   "id": "89041e01",
   "metadata": {},
   "outputs": [
    {
     "data": {
      "text/plain": [
       "0.2509090909090909"
      ]
     },
     "execution_count": 147,
     "metadata": {},
     "output_type": "execute_result"
    }
   ],
   "source": [
    "from sklearn.metrics import mean_absolute_error\n",
    "from sklearn.metrics import mean_absolute_percentage_error\n",
    "\n",
    "val_mae = mean_absolute_error(val_y, val_predictions)\n",
    "val_mae"
   ]
  },
  {
   "cell_type": "code",
   "execution_count": 148,
   "id": "153dd901",
   "metadata": {},
   "outputs": [
    {
     "data": {
      "text/plain": [
       "0.07446942564204753"
      ]
     },
     "execution_count": 148,
     "metadata": {},
     "output_type": "execute_result"
    }
   ],
   "source": [
    "val_mape = mean_absolute_percentage_error(val_y, val_predictions)\n",
    "val_mape"
   ]
  },
  {
   "cell_type": "code",
   "execution_count": 149,
   "id": "330b1fc5",
   "metadata": {},
   "outputs": [
    {
     "data": {
      "text/plain": [
       "RandomForestRegressor(random_state=1)"
      ]
     },
     "execution_count": 149,
     "metadata": {},
     "output_type": "execute_result"
    }
   ],
   "source": [
    "from sklearn.ensemble import RandomForestRegressor\n",
    "\n",
    "#Define the model. Set random_state to 1\n",
    "rf_model = RandomForestRegressor(random_state=1)\n",
    "\n",
    "#fit the model\n",
    "rf_model.fit(train_X, train_y)"
   ]
  },
  {
   "cell_type": "code",
   "execution_count": 150,
   "id": "60e14738",
   "metadata": {},
   "outputs": [],
   "source": [
    "rf_val_predictions = rf_model.predict(val_X)"
   ]
  },
  {
   "cell_type": "code",
   "execution_count": 151,
   "id": "f9adc64c",
   "metadata": {},
   "outputs": [
    {
     "data": {
      "text/plain": [
       "0.18783636363636302"
      ]
     },
     "execution_count": 151,
     "metadata": {},
     "output_type": "execute_result"
    }
   ],
   "source": [
    "# Calculate the mean absolute error of the Random Forest model on the validation data\n",
    "rf_val_mae = mean_absolute_error(val_y, rf_val_predictions)\n",
    "rf_val_mae"
   ]
  },
  {
   "cell_type": "code",
   "execution_count": 152,
   "id": "ffb9af65",
   "metadata": {},
   "outputs": [
    {
     "data": {
      "text/plain": [
       "0.054871269473882815"
      ]
     },
     "execution_count": 152,
     "metadata": {},
     "output_type": "execute_result"
    }
   ],
   "source": [
    "rf_val_mape = mean_absolute_percentage_error(rf_val_predictions, val_y)\n",
    "rf_val_mape"
   ]
  },
  {
   "cell_type": "code",
   "execution_count": null,
   "id": "207fda63",
   "metadata": {},
   "outputs": [],
   "source": []
  }
 ],
 "metadata": {
  "kernelspec": {
   "display_name": "Python 3 (ipykernel)",
   "language": "python",
   "name": "python3"
  },
  "language_info": {
   "codemirror_mode": {
    "name": "ipython",
    "version": 3
   },
   "file_extension": ".py",
   "mimetype": "text/x-python",
   "name": "python",
   "nbconvert_exporter": "python",
   "pygments_lexer": "ipython3",
   "version": "3.9.12"
  }
 },
 "nbformat": 4,
 "nbformat_minor": 5
}
